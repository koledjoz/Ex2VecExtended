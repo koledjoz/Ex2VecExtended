{
 "cells": [
  {
   "cell_type": "code",
   "execution_count": 21,
   "id": "f8a39ec4-f2b6-4505-bc09-b0d42e8c655a",
   "metadata": {},
   "outputs": [],
   "source": [
    "import pandas as pd\n",
    "import numpy as np\n",
    "import os\n",
    "\n",
    "import json"
   ]
  },
  {
   "cell_type": "code",
   "execution_count": 22,
   "id": "2ca523d7-a7ce-4ea5-9a41-af205d68eaf6",
   "metadata": {},
   "outputs": [],
   "source": [
    "def accuracy_at_k(preds_df, true_items, max_k=25):\n",
    "    accs = []\n",
    "    for k in range(1, max_k + 1):\n",
    "        correct = 0\n",
    "        for i in range(len(true_items)):\n",
    "            scores = preds_df.iloc[i]\n",
    "            top_k_items = scores.sort_values(ascending=False).index[:k]\n",
    "            if true_items.iloc[i] in top_k_items:\n",
    "                correct += 1\n",
    "        accs.append(correct / len(true_items))\n",
    "    return accs\n",
    "\n",
    "def fast_accuracy_at_k(preds_df: pd.DataFrame, true_items: pd.Series, max_k: int = 25):\n",
    "    # Convert DataFrame to numpy array\n",
    "    scores = preds_df.to_numpy()\n",
    "    item_ids = np.array(preds_df.columns)\n",
    "\n",
    "    # Get indices of top-k items for each row\n",
    "    topk_indices = np.argpartition(-scores, range(max_k), axis=1)[:, :max_k]  # partial sort\n",
    "    topk_scores = np.take_along_axis(scores, topk_indices, axis=1)\n",
    "\n",
    "    # Fully sort only the top-k items\n",
    "    sorted_topk_idx = np.argsort(-topk_scores, axis=1)\n",
    "    topk_sorted_indices = np.take_along_axis(topk_indices, sorted_topk_idx, axis=1)\n",
    "\n",
    "    # Map true_items to column indices\n",
    "    item_to_index = {item: i for i, item in enumerate(preds_df.columns)}\n",
    "    true_indices = true_items.map(item_to_index).to_numpy()\n",
    "\n",
    "    # Compute match matrix: shape (num_samples, max_k)\n",
    "    matches = (topk_sorted_indices == true_indices[:, None])\n",
    "\n",
    "    # Cumulative accuracy: if true item is in top-k\n",
    "    acc_at_k = matches.cumsum(axis=1).clip(0, 1).mean(axis=0)\n",
    "\n",
    "    return acc_at_k.tolist()"
   ]
  },
  {
   "cell_type": "code",
   "execution_count": 23,
   "id": "fc5c6a01-af8d-435b-ba71-24f7c93a7d3d",
   "metadata": {},
   "outputs": [
    {
     "name": "stdout",
     "output_type": "stream",
     "text": [
      "Loading ./original_results/original_results_ordered_0.parquet\n",
      "\tCalculating...\n",
      "Loading ./original_results/original_results_ordered_1.parquet\n",
      "\tCalculating...\n"
     ]
    }
   ],
   "source": [
    "top_k = 50\n",
    "\n",
    "results = np.array([0.0 for _ in range(top_k)])\n",
    "\n",
    "total_count = 0\n",
    "\n",
    "for file in os.listdir('original_results')[:2]:\n",
    "    print(f'Loading ./original_results/{file}')\n",
    "    df_results = pd.read_parquet(f'./original_results/{file}')\n",
    "    print('\\tCalculating...')\n",
    "    results += np.array(fast_accuracy_at_k(df_results, df_results[0], max_k=top_k)) * len(df_results)\n",
    "    total_count += len(df_results)"
   ]
  },
  {
   "cell_type": "code",
   "execution_count": 24,
   "id": "b83cc982-58b9-4393-9d82-a9aa7517f8ec",
   "metadata": {},
   "outputs": [],
   "source": [
    "np.savetxt('original_accuracy.txt', results / total_count)"
   ]
  },
  {
   "cell_type": "code",
   "execution_count": null,
   "id": "0bec43f5-0dfd-4b85-a12f-7b34d9275d3e",
   "metadata": {},
   "outputs": [],
   "source": []
  }
 ],
 "metadata": {
  "kernelspec": {
   "display_name": "Python 3 (ipykernel)",
   "language": "python",
   "name": "python3"
  },
  "language_info": {
   "codemirror_mode": {
    "name": "ipython",
    "version": 3
   },
   "file_extension": ".py",
   "mimetype": "text/x-python",
   "name": "python",
   "nbconvert_exporter": "python",
   "pygments_lexer": "ipython3",
   "version": "3.10.12"
  }
 },
 "nbformat": 4,
 "nbformat_minor": 5
}
