{
 "cells": [
  {
   "cell_type": "code",
   "execution_count": 1,
   "id": "91959d79-43c8-49a4-a974-a62d45a9907c",
   "metadata": {},
   "outputs": [],
   "source": [
    "import pandas as pd\n",
    "from datetime import datetime"
   ]
  },
  {
   "cell_type": "code",
   "execution_count": 2,
   "id": "f15cc99d-964a-40a9-bd67-c8a1ca4d3785",
   "metadata": {},
   "outputs": [],
   "source": [
    "# df = pd.read_parquet('filtered_data.parquet')\n",
    "df = pd.read_parquet('full_data.parquet')"
   ]
  },
  {
   "cell_type": "code",
   "execution_count": 3,
   "id": "cdab737b-c2a8-4676-82c6-70fb001c1ea1",
   "metadata": {},
   "outputs": [],
   "source": [
    "start = df['ts'].min()\n",
    "end = df['ts'].max()\n",
    "\n",
    "new_start = int((end + start)/2)"
   ]
  },
  {
   "cell_type": "code",
   "execution_count": 4,
   "id": "acd78dd4-aa7d-4060-80bb-73cb4e0ef551",
   "metadata": {},
   "outputs": [
    {
     "name": "stdout",
     "output_type": "stream",
     "text": [
      "START:     2022-03-01 00:00:00\n",
      "END:       2022-08-31 23:59:58\n",
      "NEW START: 2022-05-31 23:59:59\n"
     ]
    }
   ],
   "source": [
    "print('START:    ', datetime.utcfromtimestamp(start).strftime('%Y-%m-%d %H:%M:%S'))\n",
    "print('END:      ', datetime.utcfromtimestamp(end).strftime('%Y-%m-%d %H:%M:%S'))\n",
    "print('NEW START:', datetime.utcfromtimestamp(new_start).strftime('%Y-%m-%d %H:%M:%S'))"
   ]
  },
  {
   "cell_type": "code",
   "execution_count": 5,
   "id": "d05b25e2-cd56-42cb-a6c2-689af6b5f89f",
   "metadata": {},
   "outputs": [
    {
     "data": {
      "text/html": [
       "<div>\n",
       "<style scoped>\n",
       "    .dataframe tbody tr th:only-of-type {\n",
       "        vertical-align: middle;\n",
       "    }\n",
       "\n",
       "    .dataframe tbody tr th {\n",
       "        vertical-align: top;\n",
       "    }\n",
       "\n",
       "    .dataframe thead th {\n",
       "        text-align: right;\n",
       "    }\n",
       "</style>\n",
       "<table border=\"1\" class=\"dataframe\">\n",
       "  <thead>\n",
       "    <tr style=\"text-align: right;\">\n",
       "      <th></th>\n",
       "      <th>user_id</th>\n",
       "      <th>track_id</th>\n",
       "      <th>session_id</th>\n",
       "      <th>ts</th>\n",
       "    </tr>\n",
       "  </thead>\n",
       "  <tbody>\n",
       "    <tr>\n",
       "      <th>0</th>\n",
       "      <td>2221415</td>\n",
       "      <td>18127</td>\n",
       "      <td>559</td>\n",
       "      <td>1658376527</td>\n",
       "    </tr>\n",
       "    <tr>\n",
       "      <th>1</th>\n",
       "      <td>1296562</td>\n",
       "      <td>36071</td>\n",
       "      <td>374</td>\n",
       "      <td>1654085603</td>\n",
       "    </tr>\n",
       "    <tr>\n",
       "      <th>2</th>\n",
       "      <td>1698556</td>\n",
       "      <td>4031</td>\n",
       "      <td>486</td>\n",
       "      <td>1656494630</td>\n",
       "    </tr>\n",
       "    <tr>\n",
       "      <th>5</th>\n",
       "      <td>2768742</td>\n",
       "      <td>29092</td>\n",
       "      <td>462</td>\n",
       "      <td>1661071150</td>\n",
       "    </tr>\n",
       "    <tr>\n",
       "      <th>6</th>\n",
       "      <td>2769174</td>\n",
       "      <td>9082</td>\n",
       "      <td>640</td>\n",
       "      <td>1660206793</td>\n",
       "    </tr>\n",
       "    <tr>\n",
       "      <th>...</th>\n",
       "      <td>...</td>\n",
       "      <td>...</td>\n",
       "      <td>...</td>\n",
       "      <td>...</td>\n",
       "    </tr>\n",
       "    <tr>\n",
       "      <th>704728513</th>\n",
       "      <td>2954562</td>\n",
       "      <td>14061</td>\n",
       "      <td>553</td>\n",
       "      <td>1655020035</td>\n",
       "    </tr>\n",
       "    <tr>\n",
       "      <th>704728514</th>\n",
       "      <td>1301303</td>\n",
       "      <td>14061</td>\n",
       "      <td>310</td>\n",
       "      <td>1659614629</td>\n",
       "    </tr>\n",
       "    <tr>\n",
       "      <th>704728516</th>\n",
       "      <td>1141809</td>\n",
       "      <td>14061</td>\n",
       "      <td>392</td>\n",
       "      <td>1658668024</td>\n",
       "    </tr>\n",
       "    <tr>\n",
       "      <th>704728517</th>\n",
       "      <td>2436350</td>\n",
       "      <td>14061</td>\n",
       "      <td>400</td>\n",
       "      <td>1654285059</td>\n",
       "    </tr>\n",
       "    <tr>\n",
       "      <th>704728518</th>\n",
       "      <td>3137441</td>\n",
       "      <td>14061</td>\n",
       "      <td>417</td>\n",
       "      <td>1655098291</td>\n",
       "    </tr>\n",
       "  </tbody>\n",
       "</table>\n",
       "<p>361351031 rows × 4 columns</p>\n",
       "</div>"
      ],
      "text/plain": [
       "           user_id  track_id  session_id          ts\n",
       "0          2221415     18127         559  1658376527\n",
       "1          1296562     36071         374  1654085603\n",
       "2          1698556      4031         486  1656494630\n",
       "5          2768742     29092         462  1661071150\n",
       "6          2769174      9082         640  1660206793\n",
       "...            ...       ...         ...         ...\n",
       "704728513  2954562     14061         553  1655020035\n",
       "704728514  1301303     14061         310  1659614629\n",
       "704728516  1141809     14061         392  1658668024\n",
       "704728517  2436350     14061         400  1654285059\n",
       "704728518  3137441     14061         417  1655098291\n",
       "\n",
       "[361351031 rows x 4 columns]"
      ]
     },
     "execution_count": 5,
     "metadata": {},
     "output_type": "execute_result"
    }
   ],
   "source": [
    "df = df[df['ts'] > new_start]\n",
    "df"
   ]
  },
  {
   "cell_type": "code",
   "execution_count": 6,
   "id": "b740a005-b819-4a4f-949e-cc36fb2d4a25",
   "metadata": {},
   "outputs": [
    {
     "data": {
      "text/plain": [
       "user_id\n",
       "154350     3640\n",
       "587363     3500\n",
       "95935      3460\n",
       "1510916    3370\n",
       "2338704    3350\n",
       "           ... \n",
       "2021152       1\n",
       "2760757       1\n",
       "149825        1\n",
       "930915        1\n",
       "1844664       1\n",
       "Name: count, Length: 2906303, dtype: int64"
      ]
     },
     "execution_count": 6,
     "metadata": {},
     "output_type": "execute_result"
    }
   ],
   "source": [
    "df['user_id'].value_counts()"
   ]
  },
  {
   "cell_type": "code",
   "execution_count": 7,
   "id": "b370d755-a489-4731-96b7-22d509b246dd",
   "metadata": {},
   "outputs": [],
   "source": [
    "# top_user = 5000\n",
    "# top_item = 1000"
   ]
  },
  {
   "cell_type": "code",
   "execution_count": 8,
   "id": "da2c9980-64e0-43b1-88e5-35fd5ef2547d",
   "metadata": {},
   "outputs": [],
   "source": [
    "# user_counts = df['user_id'].value_counts()\n",
    "# user_counts = user_counts.iloc[:top_user].index\n",
    "# item_counts = df['track_id'].value_counts()\n",
    "# item_counts = item_counts.iloc[:top_item].index"
   ]
  },
  {
   "cell_type": "code",
   "execution_count": 9,
   "id": "df72d9a2-7e6e-4fb8-bb9b-4bc123dcab13",
   "metadata": {},
   "outputs": [],
   "source": [
    "# df = df[(df['user_id'].isin(user_counts.to_numpy())) & (df['track_id'].isin(item_counts.to_numpy()))]"
   ]
  },
  {
   "cell_type": "code",
   "execution_count": 10,
   "id": "a06b3721-a2d1-4eea-b49c-1f8072cd7884",
   "metadata": {
    "scrolled": true
   },
   "outputs": [
    {
     "name": "stdout",
     "output_type": "stream",
     "text": [
      "Filtering round number 1\n",
      "\tFiltering users\n",
      "\t\tWill filter once more because of users.\n",
      "\tFiltering items\n",
      "\t\tWill filter once more because of items.\n",
      "\tFiltering the whole dataset\n",
      "\tSaving filtered dataset with 28152515 interactions\n",
      "Filtering round number 2\n",
      "\tFiltering users\n",
      "\t\tWill filter once more because of users.\n",
      "\tFiltering items\n",
      "\t\tWill filter once more because of items.\n",
      "\tFiltering the whole dataset\n",
      "\tSaving filtered dataset with 25086549 interactions\n",
      "Filtering round number 3\n",
      "\tFiltering users\n",
      "\t\tWill filter once more because of users.\n",
      "\tFiltering items\n",
      "\t\tWill filter once more because of items.\n",
      "\tFiltering the whole dataset\n",
      "\tSaving filtered dataset with 20432396 interactions\n",
      "Filtering round number 4\n",
      "\tFiltering users\n",
      "\t\tWill filter once more because of users.\n",
      "\tFiltering items\n",
      "\t\tWill filter once more because of items.\n",
      "\tFiltering the whole dataset\n",
      "\tSaving filtered dataset with 19729701 interactions\n",
      "Filtering round number 5\n",
      "\tFiltering users\n",
      "\t\tWill filter once more because of users.\n",
      "\tFiltering items\n",
      "\t\tWill filter once more because of items.\n",
      "\tFiltering the whole dataset\n",
      "\tSaving filtered dataset with 18248502 interactions\n",
      "Filtering round number 6\n",
      "\tFiltering users\n",
      "\t\tWill filter once more because of users.\n",
      "\tFiltering items\n",
      "\t\tWill filter once more because of items.\n",
      "\tFiltering the whole dataset\n",
      "\tSaving filtered dataset with 17995581 interactions\n",
      "Filtering round number 7\n",
      "\tFiltering users\n",
      "\t\tWill filter once more because of users.\n",
      "\tFiltering items\n",
      "\t\tWill filter once more because of items.\n",
      "\tFiltering the whole dataset\n",
      "\tSaving filtered dataset with 17424169 interactions\n",
      "Filtering round number 8\n",
      "\tFiltering users\n",
      "\t\tWill filter once more because of users.\n",
      "\tFiltering items\n",
      "\t\tWill filter once more because of items.\n",
      "\tFiltering the whole dataset\n",
      "\tSaving filtered dataset with 17316914 interactions\n",
      "Filtering round number 9\n",
      "\tFiltering users\n",
      "\t\tWill filter once more because of users.\n",
      "\tFiltering items\n",
      "\t\tWill filter once more because of items.\n",
      "\tFiltering the whole dataset\n",
      "\tSaving filtered dataset with 17048574 interactions\n",
      "Filtering round number 10\n",
      "\tFiltering users\n",
      "\t\tWill filter once more because of users.\n",
      "\tFiltering items\n",
      "\t\tWill filter once more because of items.\n",
      "\tFiltering the whole dataset\n",
      "\tSaving filtered dataset with 16991597 interactions\n",
      "Filtering round number 11\n",
      "\tFiltering users\n",
      "\t\tWill filter once more because of users.\n",
      "\tFiltering items\n",
      "\t\tWill filter once more because of items.\n",
      "\tFiltering the whole dataset\n",
      "\tSaving filtered dataset with 16865600 interactions\n",
      "Filtering round number 12\n",
      "\tFiltering users\n",
      "\t\tWill filter once more because of users.\n",
      "\tFiltering items\n",
      "\t\tWill filter once more because of items.\n",
      "\tFiltering the whole dataset\n",
      "\tSaving filtered dataset with 16837893 interactions\n",
      "Filtering round number 13\n",
      "\tFiltering users\n",
      "\t\tWill filter once more because of users.\n",
      "\tFiltering items\n",
      "\tFiltering the whole dataset\n",
      "\tSaving filtered dataset with 16767204 interactions\n",
      "Filtering round number 14\n",
      "\tFiltering users\n",
      "\tFiltering items\n",
      "\t\tWill filter once more because of items.\n",
      "\tFiltering the whole dataset\n",
      "\tSaving filtered dataset with 16755344 interactions\n",
      "Filtering round number 15\n",
      "\tFiltering users\n",
      "\t\tWill filter once more because of users.\n",
      "\tFiltering items\n",
      "\tFiltering the whole dataset\n",
      "\tSaving filtered dataset with 16715486 interactions\n",
      "Filtering round number 16\n",
      "\tFiltering users\n",
      "\tFiltering items\n",
      "\t\tWill filter once more because of items.\n",
      "\tFiltering the whole dataset\n",
      "\tSaving filtered dataset with 16707590 interactions\n",
      "Filtering round number 17\n",
      "\tFiltering users\n",
      "\t\tWill filter once more because of users.\n",
      "\tFiltering items\n",
      "\tFiltering the whole dataset\n",
      "\tSaving filtered dataset with 16677727 interactions\n",
      "Filtering round number 18\n",
      "\tFiltering users\n",
      "\tFiltering items\n",
      "\t\tWill filter once more because of items.\n",
      "\tFiltering the whole dataset\n",
      "\tSaving filtered dataset with 16673746 interactions\n",
      "Filtering round number 19\n",
      "\tFiltering users\n",
      "\t\tWill filter once more because of users.\n",
      "\tFiltering items\n",
      "\tFiltering the whole dataset\n",
      "\tSaving filtered dataset with 16665766 interactions\n",
      "Filtering round number 20\n",
      "\tFiltering users\n",
      "\tFiltering items\n",
      "\t\tWill filter once more because of items.\n",
      "\tFiltering the whole dataset\n",
      "\tSaving filtered dataset with 16663776 interactions\n",
      "Filtering round number 21\n",
      "\tFiltering users\n",
      "\t\tWill filter once more because of users.\n",
      "\tFiltering items\n",
      "\tFiltering the whole dataset\n",
      "\tSaving filtered dataset with 16658781 interactions\n",
      "Filtering round number 22\n",
      "\tFiltering users\n",
      "\tFiltering items\n",
      "\tFiltering the whole dataset\n",
      "\tSaving filtered dataset with 16658781 interactions\n"
     ]
    }
   ],
   "source": [
    "user_core = 1000\n",
    "item_core = 1000\n",
    "\n",
    "filter_more = True\n",
    "filter_id = 0\n",
    "\n",
    "\n",
    "while filter_more:\n",
    "    filter_id = filter_id + 1\n",
    "    \n",
    "    print(f'Filtering round number {filter_id}')\n",
    "    filter_more = False\n",
    "\n",
    "    print('\\tFiltering users')\n",
    "    \n",
    "    ucounts = df['user_id'].value_counts()\n",
    "\n",
    "    ucounts_filt = ucounts[ucounts >= user_core]\n",
    "\n",
    "    if len(ucounts) != len(ucounts_filt):\n",
    "        print('\\t\\tWill filter once more because of users.')\n",
    "        filter_more = True\n",
    "\n",
    "    print('\\tFiltering items')\n",
    "\n",
    "    icounts = df['track_id'].value_counts()\n",
    "\n",
    "    icounts_filt = icounts[icounts >= item_core]\n",
    "\n",
    "    if len(icounts) != len(icounts_filt):\n",
    "        print('\\t\\tWill filter once more because of items.')\n",
    "        filter_more = True\n",
    "\n",
    "    print('\\tFiltering the whole dataset')\n",
    "\n",
    "    df = df[(df['user_id'].isin(ucounts_filt.index.to_numpy())) & (df['track_id'].isin(icounts_filt.index.to_numpy()))]\n",
    "\n",
    "    print(f'\\tSaving filtered dataset with {len(df)} interactions')\n",
    "    df[['user_id', 'track_id', 'ts']].to_parquet('done_filtered_data.parquet', index=False)"
   ]
  },
  {
   "cell_type": "code",
   "execution_count": 11,
   "id": "6bbcc0c6-8d61-44b2-956d-b7ed8b2da761",
   "metadata": {},
   "outputs": [
    {
     "data": {
      "text/plain": [
       "user_id\n",
       "95935      3438\n",
       "1510916    3222\n",
       "154350     3202\n",
       "3199213    3135\n",
       "1355597    3115\n",
       "           ... \n",
       "34389      1000\n",
       "2368832    1000\n",
       "1269653    1000\n",
       "2742668    1000\n",
       "2953266    1000\n",
       "Name: count, Length: 13209, dtype: int64"
      ]
     },
     "execution_count": 11,
     "metadata": {},
     "output_type": "execute_result"
    }
   ],
   "source": [
    "df['user_id'].value_counts()"
   ]
  },
  {
   "cell_type": "code",
   "execution_count": 12,
   "id": "8372c176-5a57-43e4-87fe-5e180884716b",
   "metadata": {},
   "outputs": [
    {
     "data": {
      "text/plain": [
       "track_id\n",
       "14061    143951\n",
       "42052    133891\n",
       "26996     99379\n",
       "27887     96098\n",
       "46999     86907\n",
       "          ...  \n",
       "26781      1004\n",
       "36116      1001\n",
       "37912      1001\n",
       "21183      1001\n",
       "15157      1000\n",
       "Name: count, Length: 3027, dtype: int64"
      ]
     },
     "execution_count": 12,
     "metadata": {},
     "output_type": "execute_result"
    }
   ],
   "source": [
    "df['track_id'].value_counts()"
   ]
  },
  {
   "cell_type": "code",
   "execution_count": 13,
   "id": "c871431b-727f-40dc-b207-0a1b09e47782",
   "metadata": {},
   "outputs": [],
   "source": [
    "df.sort_values(by=['user_id', 'ts'], inplace=True)"
   ]
  },
  {
   "cell_type": "code",
   "execution_count": 14,
   "id": "34a68aae-9ee8-4de8-a3b3-1e7623e20c71",
   "metadata": {},
   "outputs": [
    {
     "data": {
      "text/plain": [
       "array([      5,      83,     105, ..., 3420720, 3422309, 3425484],\n",
       "      shape=(13209,))"
      ]
     },
     "execution_count": 14,
     "metadata": {},
     "output_type": "execute_result"
    }
   ],
   "source": [
    "df['user_id'].unique()"
   ]
  },
  {
   "cell_type": "code",
   "execution_count": 15,
   "id": "e4fd0772-e2a3-4541-b07a-2781b701ef85",
   "metadata": {},
   "outputs": [],
   "source": [
    "user_map = {x : i+1 for i,x in enumerate(df['user_id'].unique())}\n",
    "item_map = {x : i+1 for i,x in enumerate(df['track_id'].unique())}"
   ]
  },
  {
   "cell_type": "code",
   "execution_count": 18,
   "id": "40e3e2fe-47de-446e-8d98-9c37c7fda849",
   "metadata": {},
   "outputs": [],
   "source": [
    "df['user_id'] = df['user_id'].map(user_map.get)\n",
    "df['track_id'] = df['track_id'].map(item_map.get)"
   ]
  },
  {
   "cell_type": "code",
   "execution_count": 21,
   "id": "24069b94-6235-456e-ba4f-f0b57e6c7aec",
   "metadata": {},
   "outputs": [],
   "source": [
    "df[['user_id', 'track_id', 'ts']].to_parquet('sorted_data.parquet', index=False)"
   ]
  }
 ],
 "metadata": {
  "kernelspec": {
   "display_name": "Python 3 (ipykernel)",
   "language": "python",
   "name": "python3"
  },
  "language_info": {
   "codemirror_mode": {
    "name": "ipython",
    "version": 3
   },
   "file_extension": ".py",
   "mimetype": "text/x-python",
   "name": "python",
   "nbconvert_exporter": "python",
   "pygments_lexer": "ipython3",
   "version": "3.10.12"
  }
 },
 "nbformat": 4,
 "nbformat_minor": 5
}
